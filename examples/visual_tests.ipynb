{
 "nbformat": 4,
 "nbformat_minor": 0,
 "metadata": {
  "colab": {
   "provenance": []
  },
  "kernelspec": {
   "name": "python3",
   "display_name": "Python 3"
  },
  "language_info": {
   "name": "python"
  }
 },
 "cells": [
  {
   "cell_type": "markdown",
   "source": [
    "### Installing Einit :: עינית ::"
   ],
   "metadata": {
    "id": "Tcg-J_PypvX3"
   }
  },
  {
   "cell_type": "code",
   "execution_count": 34,
   "metadata": {
    "colab": {
     "base_uri": "https://localhost:8080/"
    },
    "id": "CCyprYiSnUGx",
    "outputId": "ca3a88ed-12b2-4bf2-a510-6d0cd48a43ba"
   },
   "outputs": [
    {
     "output_type": "stream",
     "name": "stdout",
     "text": [
      "Collecting einit@ git+https://github.com/sashakolpakov/einit.git@main (from einit[test]@ git+https://github.com/sashakolpakov/einit.git@main)\n",
      "  Cloning https://github.com/sashakolpakov/einit.git (to revision main) to /tmp/pip-install-t3we4jsl/einit_6347bda40101486585e9041df571a674\n",
      "  Running command git clone --filter=blob:none --quiet https://github.com/sashakolpakov/einit.git /tmp/pip-install-t3we4jsl/einit_6347bda40101486585e9041df571a674\n",
      "  Resolved https://github.com/sashakolpakov/einit.git to commit c1fe5a0d27b8d9b7aade969fa074f4dac2f6f708\n",
      "  Preparing metadata (setup.py) ... \u001b[?25l\u001b[?25hdone\n",
      "Requirement already satisfied: numpy>=1.15 in /usr/local/lib/python3.11/dist-packages (from einit@ git+https://github.com/sashakolpakov/einit.git@main->einit[test]@ git+https://github.com/sashakolpakov/einit.git@main) (2.0.2)\n",
      "Requirement already satisfied: scipy>=1.0 in /usr/local/lib/python3.11/dist-packages (from einit@ git+https://github.com/sashakolpakov/einit.git@main->einit[test]@ git+https://github.com/sashakolpakov/einit.git@main) (1.15.3)\n",
      "Requirement already satisfied: pytest>=6.0 in /usr/local/lib/python3.11/dist-packages (from einit@ git+https://github.com/sashakolpakov/einit.git@main->einit[test]@ git+https://github.com/sashakolpakov/einit.git@main) (8.3.5)\n",
      "Requirement already satisfied: opencv-python-headless>=3.4 in /usr/local/lib/python3.11/dist-packages (from einit@ git+https://github.com/sashakolpakov/einit.git@main->einit[test]@ git+https://github.com/sashakolpakov/einit.git@main) (4.11.0.86)\n",
      "Requirement already satisfied: matplotlib>=3.0 in /usr/local/lib/python3.11/dist-packages (from einit@ git+https://github.com/sashakolpakov/einit.git@main->einit[test]@ git+https://github.com/sashakolpakov/einit.git@main) (3.10.0)\n",
      "Requirement already satisfied: contourpy>=1.0.1 in /usr/local/lib/python3.11/dist-packages (from matplotlib>=3.0->einit@ git+https://github.com/sashakolpakov/einit.git@main->einit[test]@ git+https://github.com/sashakolpakov/einit.git@main) (1.3.2)\n",
      "Requirement already satisfied: cycler>=0.10 in /usr/local/lib/python3.11/dist-packages (from matplotlib>=3.0->einit@ git+https://github.com/sashakolpakov/einit.git@main->einit[test]@ git+https://github.com/sashakolpakov/einit.git@main) (0.12.1)\n",
      "Requirement already satisfied: fonttools>=4.22.0 in /usr/local/lib/python3.11/dist-packages (from matplotlib>=3.0->einit@ git+https://github.com/sashakolpakov/einit.git@main->einit[test]@ git+https://github.com/sashakolpakov/einit.git@main) (4.58.0)\n",
      "Requirement already satisfied: kiwisolver>=1.3.1 in /usr/local/lib/python3.11/dist-packages (from matplotlib>=3.0->einit@ git+https://github.com/sashakolpakov/einit.git@main->einit[test]@ git+https://github.com/sashakolpakov/einit.git@main) (1.4.8)\n",
      "Requirement already satisfied: packaging>=20.0 in /usr/local/lib/python3.11/dist-packages (from matplotlib>=3.0->einit@ git+https://github.com/sashakolpakov/einit.git@main->einit[test]@ git+https://github.com/sashakolpakov/einit.git@main) (24.2)\n",
      "Requirement already satisfied: pillow>=8 in /usr/local/lib/python3.11/dist-packages (from matplotlib>=3.0->einit@ git+https://github.com/sashakolpakov/einit.git@main->einit[test]@ git+https://github.com/sashakolpakov/einit.git@main) (11.2.1)\n",
      "Requirement already satisfied: pyparsing>=2.3.1 in /usr/local/lib/python3.11/dist-packages (from matplotlib>=3.0->einit@ git+https://github.com/sashakolpakov/einit.git@main->einit[test]@ git+https://github.com/sashakolpakov/einit.git@main) (3.2.3)\n",
      "Requirement already satisfied: python-dateutil>=2.7 in /usr/local/lib/python3.11/dist-packages (from matplotlib>=3.0->einit@ git+https://github.com/sashakolpakov/einit.git@main->einit[test]@ git+https://github.com/sashakolpakov/einit.git@main) (2.9.0.post0)\n",
      "Requirement already satisfied: iniconfig in /usr/local/lib/python3.11/dist-packages (from pytest>=6.0->einit@ git+https://github.com/sashakolpakov/einit.git@main->einit[test]@ git+https://github.com/sashakolpakov/einit.git@main) (2.1.0)\n",
      "Requirement already satisfied: pluggy<2,>=1.5 in /usr/local/lib/python3.11/dist-packages (from pytest>=6.0->einit@ git+https://github.com/sashakolpakov/einit.git@main->einit[test]@ git+https://github.com/sashakolpakov/einit.git@main) (1.6.0)\n",
      "Requirement already satisfied: six>=1.5 in /usr/local/lib/python3.11/dist-packages (from python-dateutil>=2.7->matplotlib>=3.0->einit@ git+https://github.com/sashakolpakov/einit.git@main->einit[test]@ git+https://github.com/sashakolpakov/einit.git@main) (1.17.0)\n"
     ]
    }
   ],
   "source": [
    "!pip install \"einit[test] @ git+https://github.com/sashakolpakov/einit.git@main\""
   ]
  },
  {
   "cell_type": "markdown",
   "source": [
    "### Imports and setup"
   ],
   "metadata": {
    "id": "n6nEPOavqHKl"
   }
  },
  {
   "cell_type": "code",
   "source": "import numpy as np\nimport matplotlib.pyplot as plt\nfrom mpl_toolkits.mplot3d import Axes3D\nimport timeit\nfrom einit import register_ellipsoid",
   "metadata": {
    "id": "ukmhE_tDogXF"
   },
   "outputs": []
  },
  {
   "cell_type": "code",
   "source": [
    "# Style for the visuals\n",
    "try:\n",
    "    plt.style.use('seaborn-v0_8')\n",
    "except:\n",
    "    plt.style.use('default')\n",
    "\n",
    "# Random seed for reproducibility\n",
    "np.random.seed(42)"
   ],
   "metadata": {
    "id": "n0WpltXDpqKK"
   },
   "execution_count": 36,
   "outputs": []
  },
  {
   "cell_type": "markdown",
   "source": [
    "### Helper functions"
   ],
   "metadata": {
    "id": "p0Q43Q5-qVj2"
   }
  },
  {
   "cell_type": "code",
   "source": [
    "def apply_transform(pts, T):\n",
    "    \"\"\"Apply a 4x4 homogeneous transform T to an (N,3) array of points.\"\"\"\n",
    "    N = pts.shape[0]\n",
    "    homo = np.hstack([pts, np.ones((N, 1))])\n",
    "    return (T @ homo.T).T[:, :3]\n",
    "\n",
    "def random_rigid_transform():\n",
    "    \"\"\"Generate a random rigid transformation matrix.\"\"\"\n",
    "    A = np.random.normal(size=(3, 3))\n",
    "    Q, _ = np.linalg.qr(A)\n",
    "    if np.linalg.det(Q) < 0:\n",
    "        Q[:, 0] = -Q[:, 0]\n",
    "    t = np.random.uniform(-5, 5, size=(3,))\n",
    "    T = np.eye(4)\n",
    "    T[:3, :3] = Q\n",
    "    T[:3, 3] = t\n",
    "    return T\n",
    "\n",
    "def plot_point_clouds(src, dst, aligned, title=\"Point Cloud Alignment\"):\n",
    "    \"\"\"Plot source, destination, and aligned point clouds.\"\"\"\n",
    "    fig = plt.figure(figsize=(15, 5))\n",
    "\n",
    "    # Source points\n",
    "    ax1 = fig.add_subplot(131, projection='3d')\n",
    "    ax1.scatter(src[:, 0], src[:, 1], src[:, 2], c='red', alpha=0.6, s=20)\n",
    "    ax1.set_title('Source Points')\n",
    "    ax1.set_xlabel('X')\n",
    "    ax1.set_ylabel('Y')\n",
    "    ax1.set_zlabel('Z')\n",
    "\n",
    "    # Destination points\n",
    "    ax2 = fig.add_subplot(132, projection='3d')\n",
    "    ax2.scatter(dst[:, 0], dst[:, 1], dst[:, 2], c='blue', alpha=0.6, s=20)\n",
    "    ax2.set_title('Destination Points')\n",
    "    ax2.set_xlabel('X')\n",
    "    ax2.set_ylabel('Y')\n",
    "    ax2.set_zlabel('Z')\n",
    "\n",
    "    # Overlay: destination (blue) and aligned source (red)\n",
    "    ax3 = fig.add_subplot(133, projection='3d')\n",
    "    ax3.scatter(dst[:, 0], dst[:, 1], dst[:, 2], c='blue', alpha=0.6, s=20, label='Target')\n",
    "    ax3.scatter(aligned[:, 0], aligned[:, 1], aligned[:, 2], c='red', alpha=0.6, s=20, label='Aligned Source')\n",
    "    ax3.set_title('Alignment Result')\n",
    "    ax3.set_xlabel('X')\n",
    "    ax3.set_ylabel('Y')\n",
    "    ax3.set_zlabel('Z')\n",
    "    ax3.legend()\n",
    "\n",
    "    plt.suptitle(title, fontsize=16)\n",
    "    plt.tight_layout()\n",
    "    plt.show()\n",
    "\n",
    "    # Calculate alignment error\n",
    "    error = np.linalg.norm(aligned - dst, axis=1)\n",
    "    print(f\"Mean alignment error: {np.mean(error):.6f}\")\n",
    "    print(f\"Max alignment error: {np.max(error):.6f}\")\n",
    "    print(f\"RMSE: {np.sqrt(np.mean(error**2)):.6f}\")"
   ],
   "metadata": {
    "id": "pbdmwXoOqSxz"
   },
   "execution_count": 37,
   "outputs": []
  },
  {
   "cell_type": "markdown",
   "source": [
    "### Test 1 - Sphere Alignment"
   ],
   "metadata": {
    "id": "7Ha-Eya2qune"
   }
  },
  {
   "cell_type": "code",
   "source": "print(\"=== SPHERE ALIGNMENT TEST ===\")\n\n# Generate sphere points\nn_points = 1500\nphi = np.random.uniform(0, np.pi, n_points)\ntheta = np.random.uniform(0, 2*np.pi, n_points)\nsrc_sphere = np.vstack([\n    np.sin(phi) * np.cos(theta),\n    np.sin(phi) * np.sin(theta),\n    np.cos(phi)\n]).T\nsrc_sphere *= np.random.uniform(3, 5, size=(n_points, 1))\n\n# Apply random transformation\nT_true = random_rigid_transform()\ndst_sphere = apply_transform(src_sphere, T_true)\n\n# Add small amount of noise\nnoise = np.random.normal(scale=0.02, size=dst_sphere.shape)\ndst_sphere_noisy = dst_sphere + noise\n\n# Run einit for the timing stats\nstmt = \"\\nregister_ellipsoid(src_sphere, dst_sphere_noisy)\"\ntimes = timeit.repeat(stmt, globals=globals(), repeat=1000, number=1)\n\n# Convert to ms per call\nms_per_call = np.array(times) / 100 * 1e3\nmean_ms = ms_per_call.mean()\nstd_ms  = ms_per_call.std()\nprint(f\"\\nregister_ellipsoid: {mean_ms:.3f} ms ± {std_ms:.3f} ms over 1000 runs\")\n\n# Run einit algorithm for the visuals\nT_init = register_ellipsoid(src_sphere, dst_sphere_noisy)\naligned_sphere = apply_transform(src_sphere, T_init)\n\nprint(\"\\nTrue transformation matrix:\")\nprint(T_true)\nprint(\"\\nEstimated transformation matrix:\")\nprint(T_init)\n\nplot_point_clouds(src_sphere, dst_sphere_noisy, aligned_sphere, \"Sphere Alignment\")",
   "metadata": {
    "colab": {
     "base_uri": "https://localhost:8080/",
     "height": 735
    },
    "id": "sa4ZLf2dqtqo",
    "outputId": "0a40c899-7c95-4a61-87af-7528862f4df2"
   },
   "outputs": []
  },
  {
   "cell_type": "markdown",
   "source": [
    "### Test 2 - Cube with Partial Overlap"
   ],
   "metadata": {
    "id": "rG2OLprcvuY8"
   }
  },
  {
   "cell_type": "code",
   "source": "print(\"=== CUBE ALIGNMENT TEST (Partial Overlap) ===\")\n\n# Generate cube points\ngrid = np.linspace(-1, 1, 15)\nX, Y, Z = np.meshgrid(grid, grid, grid)\nsrc_cube = np.vstack([X.ravel(), Y.ravel(), Z.ravel()]).T\nsrc_cube = src_cube * np.array([2, 1.5, 1])  # Scale differently in each dimension\n\n# Apply transformation\nT_true = random_rigid_transform()\ndst_cube_full = apply_transform(src_cube, T_true)\n\n# Simulate partial overlap (80% of points)\nmask = np.random.choice([True, False], size=(src_cube.shape[0],), p=[0.8, 0.2])\nsrc_cube_partial = src_cube[mask]\ndst_cube_partial = dst_cube_full[mask]\n\n# Add noise\nnoise = np.random.normal(scale=0.02, size=dst_cube_partial.shape)\ndst_cube_noisy = dst_cube_partial + noise\n\n# Run einit algorithm for the timing stats\nstmt = \"\\nregister_ellipsoid(src_cube_partial, dst_cube_noisy)\"\ntimes = timeit.repeat(stmt, globals=globals(), repeat=1000, number=1)\n\n# Convert to ms per call\nms_per_call = np.array(times) / 100 * 1e3\nmean_ms = ms_per_call.mean()\nstd_ms  = ms_per_call.std()\nprint(f\"\\nregister_ellipsoid (cube): {mean_ms:.3f} ms ± {std_ms:.3f} ms over 1000 runs\")\n\n# Run einit algorithm for the visuals\nT_init = register_ellipsoid(src_cube_partial, dst_cube_noisy)\naligned_cube = apply_transform(src_cube_partial, T_init)\n\nprint(f\"\\nUsing {src_cube_partial.shape[0]} out of {src_cube.shape[0]} points ({100*src_cube_partial.shape[0]/src_cube.shape[0]:.1f}%)\")\nprint(\"\\nTrue transformation matrix:\")\nprint(T_true)\nprint(\"\\nEstimated transformation matrix:\")\nprint(T_init)\n\nplot_point_clouds(src_cube_partial, dst_cube_noisy, aligned_cube, \"Cube Alignment (Partial Overlap)\")",
   "metadata": {
    "colab": {
     "base_uri": "https://localhost:8080/",
     "height": 773
    },
    "id": "Rn7MJrW5uIY8",
    "outputId": "d96bc3db-dc3b-47c2-a4ea-9620ed5984a4"
   },
   "outputs": []
  },
  {
   "cell_type": "code",
   "source": "import timeit\nimport numpy as np\nimport matplotlib.pyplot as plt\nimport urllib.request\n\nprint(\"=== BUNNY ALIGNMENT TEST ===\")\n\n# Download the unoccluded Stanford Bunny point cloud\nurl = 'https://data.nrel.gov/system/files/153/bunny.csv'\nwith urllib.request.urlopen(url) as resp:\n    bunny = np.loadtxt(resp, delimiter=',')\nsrc_bunny = bunny[:, :3]  # only x,y,z columns\n\n# Apply a random rigid transform and simulate partial overlap + noise\nT_true = random_rigid_transform()\ndst_full = apply_transform(src_bunny, T_true)\n\n# Keep 80% of points for partial overlap\nmask = np.random.rand(src_bunny.shape[0]) < 0.8\nsrc_partial = src_bunny[mask]\ndst_partial = dst_full[mask]\n\n# Add small Gaussian noise\nnoise = np.random.normal(scale=0.01, size=dst_partial.shape)\ndst_noisy = dst_partial + noise\n\n# Run einit algorithm for the timing stats\ntimer = timeit.Timer(lambda: register_ellipsoid(src_partial, dst_noisy))\ntimes = np.array(timer.repeat(repeat=1000, number=1))\nms_per_call = times / 10 * 1e3                         # ms per single run\n\nmean_ms = ms_per_call.mean()\nstd_ms  = ms_per_call.std(ddof=1)\nprint(f\"\\nregister_ellipsoid (bunny): {mean_ms:.3f} ms ± {std_ms:.3f} ms over 1000 runs\")\n\n# Run einit algorithm for the visuals\nT_init = register_ellipsoid(src_partial, dst_noisy)\naligned_bunny = apply_transform(src_partial, T_init)\n\npct = 100 * src_partial.shape[0] / src_bunny.shape[0]\nprint(f\"\\nUsing {src_partial.shape[0]} of {src_bunny.shape[0]} points ({pct:.1f}%)\")\nprint(\"\\nTrue transform:\\n\", T_true)\nprint(\"\\nEstimated transform:\\n\", T_init)\n\nplot_point_clouds(src_partial, dst_noisy, aligned_bunny, title=\"Bunny Alignment (Partial Overlap)\")",
   "metadata": {
    "colab": {
     "base_uri": "https://localhost:8080/",
     "height": 772
    },
    "id": "cp5A_IU6zVZT",
    "outputId": "d872e2bb-5623-403e-e0b8-a692dd4c6cf6"
   },
   "outputs": []
  },
  {
   "cell_type": "markdown",
   "source": [
    "### Test 4 - Performance Analysis"
   ],
   "metadata": {
    "id": "g3NwySbYv5pp"
   }
  },
  {
   "cell_type": "code",
   "source": "import timeit\nimport numpy as np\nimport matplotlib.pyplot as plt\n\nprint(\"=== PERFORMANCE ANALYSIS ===\")\n\n# Test different point cloud sizes\nsizes = [100, 500, int(1e+3), int(2.5e+3), int(5e+3), int(1e+4)]\nmeans = []\ncis   = []\nrepeats = 1000  # number of timing runs per size\n\nfor size in sizes:\n    # Generate test data once per size\n    phi = np.random.uniform(0, np.pi, size)\n    theta = np.random.uniform(0, 2*np.pi, size)\n    src = np.vstack([\n        np.sin(phi) * np.cos(theta),\n        np.sin(phi) * np.sin(theta),\n        np.cos(phi)\n    ]).T * 3\n\n    T_true = random_rigid_transform()\n    dst = apply_transform(src, T_true)\n    noise = np.random.normal(scale=0.02, size=dst.shape)\n    dst_noisy = dst + noise\n\n    # Build a Timer that calls our init\n    timer = timeit.Timer(lambda: register_ellipsoid(src, dst_noisy))\n    raw_times = np.array(timer.repeat(repeat=repeats, number=1))  # seconds per run\n    times_ms = raw_times * 1000  # convert to ms\n\n    mean_ms = times_ms.mean()\n    std_ms  = times_ms.std(ddof=1)\n    sem = std_ms / np.sqrt(repeats)\n    ci95 = 1.96 * sem\n\n    means.append(mean_ms)\n    cis.append(ci95)\n\n    print(f\"Size {size:5d}: {mean_ms:7.3f} ms ± {ci95:5.3f} ms (95% CI)\")\n\n# Plot performance with 95%-confidence band\nplt.figure(figsize=(8,5))\nmeans = np.array(means)\ncis   = np.array(cis)\n\nplt.plot(sizes, means, 'o-', label='Mean runtime')\nplt.fill_between(sizes, means - cis, means + cis,\n                 color='blue', alpha=0.2, label='95% CI')\nplt.xlabel('Number of Points')\nplt.ylabel('Runtime (ms)')\nplt.title('register_ellipsoid Performance vs Point Cloud Size')\nplt.legend()\nplt.grid(alpha=0.3)\nplt.show()",
   "metadata": {
    "colab": {
     "base_uri": "https://localhost:8080/",
     "height": 606
    },
    "id": "Mf_n5iopqfRx",
    "outputId": "b312ba46-936a-425f-9ef9-c26ba66102a4"
   },
   "outputs": []
  },
  {
   "cell_type": "markdown",
   "source": [
    "### Test 5 - Error Analysis"
   ],
   "metadata": {
    "id": "-4DKHSsPwNJ3"
   }
  },
  {
   "cell_type": "code",
   "source": "import numpy as np\nimport matplotlib.pyplot as plt\n\nprint(\"=== NOISE ROBUSTNESS ANALYSIS ===\")\n\n# Noise levels to test\nnoise_levels = [0.01, 0.02, 0.05, 0.1, 0.2, 0.3, 0.4, 0.5]\n\n# Number of independent runs per noise level\nrepeats = 1000\n\nmeans = []\ncis   = []\n\nfor noise_std in noise_levels:\n    rmse_vals = []\n    for _ in range(repeats):\n        # Generate fresh sphere data\n        phi = np.random.uniform(0, np.pi, 300)\n        theta = np.random.uniform(0, 2*np.pi, 300)\n        src = np.vstack([\n            np.sin(phi) * np.cos(theta),\n            np.sin(phi) * np.sin(theta),\n            np.cos(phi)\n        ]).T * 3\n\n        # Apply ground-truth rigid transform\n        T_true = random_rigid_transform()\n        dst_clean = apply_transform(src, T_true)\n\n        # Add noise\n        noise = np.random.normal(scale=noise_std, size=dst_clean.shape)\n        dst_noisy = dst_clean + noise\n\n        # Run ellipsoid init\n        T_est = register_ellipsoid(src, dst_noisy)\n        aligned = apply_transform(src, T_est)\n\n        # Compute RMSE\n        diff = aligned - dst_noisy\n        rmse = np.sqrt(np.mean(np.sum(diff**2, axis=1)))\n        rmse_vals.append(rmse)\n\n    rmse_arr = np.array(rmse_vals)\n    mean_rmse = rmse_arr.mean()\n    sem       = rmse_arr.std(ddof=1) / np.sqrt(repeats)\n    ci95      = 1.96 * sem\n\n    means.append(mean_rmse)\n    cis.append(ci95)\n\n    print(f\"Noise std {noise_std:4.2f}: {mean_rmse:.6f} ± {ci95:.6f} (95% CI)\")\n\n# Plot mean RMSE with 95% confidence band\nmeans = np.array(means)\ncis   = np.array(cis)\n\nplt.figure(figsize=(8,5))\nplt.plot(noise_levels, means, 'o-', label='Mean RMSE')\nplt.fill_between(noise_levels, means - cis, means + cis,\n                 color='gray', alpha=0.3, label='95% CI')\nplt.xlabel('Noise Standard Deviation')\nplt.ylabel('RMSE')\nplt.title('register_ellipsoid Robustness to Noise')\nplt.legend()\nplt.grid(alpha=0.3)\nplt.show()",
   "metadata": {
    "colab": {
     "base_uri": "https://localhost:8080/",
     "height": 641
    },
    "id": "VnAAUZbNwLVE",
    "outputId": "b28009cb-8097-44bb-a12b-2024d5722b4f"
   },
   "outputs": []
  }
 ]
}