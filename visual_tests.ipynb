{
 "cells": [
  {
   "cell_type": "markdown",
   "metadata": {},
   "source": [
    "# Einit Visual Tests\n",
    "\n",
    "This notebook demonstrates the ellipsoid ICP initialization algorithm with visual outputs showing source, destination, and matched point clouds."
   ]
  },
  {
   "cell_type": "code",
   "metadata": {},
   "outputs": [],
   "source": "import numpy as np\nimport matplotlib.pyplot as plt\nfrom mpl_toolkits.mplot3d import Axes3D\nfrom einit import ellipsoid_init_icp\n\n# Set style for better plots\ntry:\n    plt.style.use('seaborn-v0_8')\nexcept:\n    plt.style.use('default')\nnp.random.seed(42)"
  },
  {
   "cell_type": "markdown",
   "metadata": {},
   "source": [
    "## Helper Functions"
   ]
  },
  {
   "cell_type": "code",
   "metadata": {},
   "outputs": [],
   "source": "def apply_transform(pts, T):\n    \"\"\"Apply a 4x4 homogeneous transform T to an (N,3) array of points.\"\"\"\n    N = pts.shape[0]\n    homo = np.hstack([pts, np.ones((N, 1))])\n    return (T @ homo.T).T[:, :3]\n\ndef random_rigid_transform():\n    \"\"\"Generate a random rigid transformation matrix.\"\"\"\n    A = np.random.normal(size=(3, 3))\n    Q, _ = np.linalg.qr(A)\n    if np.linalg.det(Q) < 0:\n        Q[:, 0] = -Q[:, 0]\n    t = np.random.uniform(-5, 5, size=(3,))\n    T = np.eye(4)\n    T[:3, :3] = Q\n    T[:3, 3] = t\n    return T\n\ndef plot_point_clouds(src, dst, aligned, title=\"Point Cloud Alignment\"):\n    \"\"\"Plot source, destination, and aligned point clouds.\"\"\"\n    fig = plt.figure(figsize=(15, 5))\n    \n    # Source points\n    ax1 = fig.add_subplot(131, projection='3d')\n    ax1.scatter(src[:, 0], src[:, 1], src[:, 2], c='red', alpha=0.6, s=20)\n    ax1.set_title('Source Points')\n    ax1.set_xlabel('X')\n    ax1.set_ylabel('Y')\n    ax1.set_zlabel('Z')\n    \n    # Destination points\n    ax2 = fig.add_subplot(132, projection='3d')\n    ax2.scatter(dst[:, 0], dst[:, 1], dst[:, 2], c='blue', alpha=0.6, s=20)\n    ax2.set_title('Destination Points')\n    ax2.set_xlabel('X')\n    ax2.set_ylabel('Y')\n    ax2.set_zlabel('Z')\n    \n    # Overlay: destination (blue) and aligned source (red)\n    ax3 = fig.add_subplot(133, projection='3d')\n    ax3.scatter(dst[:, 0], dst[:, 1], dst[:, 2], c='blue', alpha=0.6, s=20, label='Target')\n    ax3.scatter(aligned[:, 0], aligned[:, 1], aligned[:, 2], c='red', alpha=0.6, s=20, label='Aligned Source')\n    ax3.set_title('Alignment Result')\n    ax3.set_xlabel('X')\n    ax3.set_ylabel('Y')\n    ax3.set_zlabel('Z')\n    ax3.legend()\n    \n    plt.suptitle(title, fontsize=16)\n    plt.tight_layout()\n    plt.show()\n    \n    # Calculate alignment error\n    error = np.linalg.norm(aligned - dst, axis=1)\n    print(f\"Mean alignment error: {np.mean(error):.6f}\")\n    print(f\"Max alignment error: {np.max(error):.6f}\")\n    print(f\"RMSE: {np.sqrt(np.mean(error**2)):.6f}\")"
  },
  {
   "cell_type": "markdown",
   "metadata": {},
   "source": [
    "## Test 1: Sphere Alignment"
   ]
  },
  {
   "cell_type": "code",
   "execution_count": null,
   "metadata": {},
   "outputs": [],
   "source": [
    "# Generate sphere points\n",
    "n_points = 500\n",
    "phi = np.random.uniform(0, np.pi, n_points)\n",
    "theta = np.random.uniform(0, 2*np.pi, n_points)\n",
    "src_sphere = np.vstack([\n",
    "    np.sin(phi) * np.cos(theta),\n",
    "    np.sin(phi) * np.sin(theta),\n",
    "    np.cos(phi)\n",
    "]).T\n",
    "src_sphere *= np.random.uniform(3, 5, size=(n_points, 1))\n",
    "\n",
    "# Apply random transformation\n",
    "T_true = random_rigid_transform()\n",
    "dst_sphere = apply_transform(src_sphere, T_true)\n",
    "\n",
    "# Add small amount of noise\n",
    "noise = np.random.normal(scale=0.05, size=dst_sphere.shape)\n",
    "dst_sphere_noisy = dst_sphere + noise\n",
    "\n",
    "# Run einit algorithm\n",
    "T_init = ellipsoid_init_icp(src_sphere, dst_sphere_noisy)\n",
    "aligned_sphere = apply_transform(src_sphere, T_init)\n",
    "\n",
    "print(\"Sphere Alignment Test\")\n",
    "print(f\"True transformation matrix:\")\n",
    "print(T_true)\n",
    "print(f\"\\nEstimated transformation matrix:\")\n",
    "print(T_init)\n",
    "\n",
    "plot_point_clouds(src_sphere, dst_sphere_noisy, aligned_sphere, \"Sphere Alignment\")"
   ]
  },
  {
   "cell_type": "markdown",
   "metadata": {},
   "source": [
    "## Test 2: Ellipsoid Alignment"
   ]
  },
  {
   "cell_type": "code",
   "execution_count": null,
   "metadata": {},
   "outputs": [],
   "source": [
    "# Generate ellipsoid points\n",
    "n_points = 400\n",
    "phi = np.random.uniform(0, np.pi, n_points)\n",
    "theta = np.random.uniform(0, 2*np.pi, n_points)\n",
    "src_ellipsoid = np.vstack([\n",
    "    3 * np.sin(phi) * np.cos(theta),  # a=3\n",
    "    2 * np.sin(phi) * np.sin(theta),  # b=2\n",
    "    1 * np.cos(phi)                   # c=1\n",
    "]).T\n",
    "\n",
    "# Apply random transformation\n",
    "T_true = random_rigid_transform()\n",
    "dst_ellipsoid = apply_transform(src_ellipsoid, T_true)\n",
    "\n",
    "# Add noise\n",
    "noise = np.random.normal(scale=0.02, size=dst_ellipsoid.shape)\n",
    "dst_ellipsoid_noisy = dst_ellipsoid + noise\n",
    "\n",
    "# Run einit algorithm\n",
    "T_init = ellipsoid_init_icp(src_ellipsoid, dst_ellipsoid_noisy)\n",
    "aligned_ellipsoid = apply_transform(src_ellipsoid, T_init)\n",
    "\n",
    "print(\"Ellipsoid Alignment Test\")\n",
    "print(f\"True transformation matrix:\")\n",
    "print(T_true)\n",
    "print(f\"\\nEstimated transformation matrix:\")\n",
    "print(T_init)\n",
    "\n",
    "plot_point_clouds(src_ellipsoid, dst_ellipsoid_noisy, aligned_ellipsoid, \"Ellipsoid Alignment\")"
   ]
  },
  {
   "cell_type": "markdown",
   "metadata": {},
   "source": [
    "## Test 3: Cube with Partial Overlap"
   ]
  },
  {
   "cell_type": "code",
   "execution_count": null,
   "metadata": {},
   "outputs": [],
   "source": [
    "# Generate cube points\n",
    "grid = np.linspace(-1, 1, 15)\n",
    "X, Y, Z = np.meshgrid(grid, grid, grid)\n",
    "src_cube = np.vstack([X.ravel(), Y.ravel(), Z.ravel()]).T\n",
    "src_cube = src_cube * np.array([2, 1.5, 1])  # Scale differently in each dimension\n",
    "\n",
    "# Apply transformation\n",
    "T_true = random_rigid_transform()\n",
    "dst_cube_full = apply_transform(src_cube, T_true)\n",
    "\n",
    "# Simulate partial overlap (80% of points)\n",
    "mask = np.random.choice([True, False], size=(src_cube.shape[0],), p=[0.8, 0.2])\n",
    "src_cube_partial = src_cube[mask]\n",
    "dst_cube_partial = dst_cube_full[mask]\n",
    "\n",
    "# Add noise\n",
    "noise = np.random.normal(scale=0.01, size=dst_cube_partial.shape)\n",
    "dst_cube_noisy = dst_cube_partial + noise\n",
    "\n",
    "# Run einit algorithm\n",
    "T_init = ellipsoid_init_icp(src_cube_partial, dst_cube_noisy)\n",
    "aligned_cube = apply_transform(src_cube_partial, T_init)\n",
    "\n",
    "print(\"Cube Alignment Test (Partial Overlap)\")\n",
    "print(f\"Using {src_cube_partial.shape[0]} out of {src_cube.shape[0]} points ({100*src_cube_partial.shape[0]/src_cube.shape[0]:.1f}%)\")\n",
    "print(f\"True transformation matrix:\")\n",
    "print(T_true)\n",
    "print(f\"\\nEstimated transformation matrix:\")\n",
    "print(T_init)\n",
    "\n",
    "plot_point_clouds(src_cube_partial, dst_cube_noisy, aligned_cube, \"Cube Alignment (Partial Overlap)\")"
   ]
  },
  {
   "cell_type": "markdown",
   "metadata": {},
   "source": "## Test 4: Algorithm Performance Analysis",
   "outputs": []
  },
  {
   "cell_type": "code",
   "metadata": {},
   "outputs": [],
   "source": "# Performance timing analysis\nimport time\n\nprint(\"Performance Analysis\")\nprint(\"=\" * 50)\n\n# Test different point cloud sizes\nsizes = [100, 500, 1000, 2000, 5000]\ntimes = []\n\nfor size in sizes:\n    # Generate test data\n    phi = np.random.uniform(0, np.pi, size)\n    theta = np.random.uniform(0, 2*np.pi, size)\n    src = np.vstack([\n        np.sin(phi) * np.cos(theta),\n        np.sin(phi) * np.sin(theta),\n        np.cos(phi)\n    ]).T * 3\n    \n    T_true = random_rigid_transform()\n    dst = apply_transform(src, T_true)\n    noise = np.random.normal(scale=0.02, size=dst.shape)\n    dst_noisy = dst + noise\n    \n    # Time the algorithm\n    start_time = time.time()\n    T_init = ellipsoid_init_icp(src, dst_noisy)\n    end_time = time.time()\n    \n    runtime = (end_time - start_time) * 1000  # Convert to milliseconds\n    times.append(runtime)\n    \n    print(f\"Points: {size:5d}, Runtime: {runtime:7.3f} ms\")\n\n# Plot performance\nplt.figure(figsize=(10, 6))\nplt.plot(sizes, times, 'bo-', linewidth=2, markersize=8)\nplt.xlabel('Number of Points')\nplt.ylabel('Runtime (milliseconds)')\nplt.title('Algorithm Performance vs Point Cloud Size')\nplt.grid(True, alpha=0.3)\nplt.show()\n\nprint(f\"\\nAverage runtime per 1000 points: {np.mean(times[2:]):.2f} ms\")"
  },
  {
   "cell_type": "markdown",
   "metadata": {},
   "source": [
    "## Test 5: Error Analysis"
   ]
  },
  {
   "cell_type": "code",
   "execution_count": null,
   "metadata": {},
   "outputs": [],
   "source": [
    "# Test robustness to different noise levels\n",
    "noise_levels = [0.01, 0.02, 0.05, 0.1, 0.2]\n",
    "rmse_results = []\n",
    "\n",
    "print(\"Noise Robustness Analysis\")\n",
    "print(\"=\" * 30)\n",
    "\n",
    "for noise_std in noise_levels:\n",
    "    # Generate fresh sphere data\n",
    "    phi = np.random.uniform(0, np.pi, 300)\n",
    "    theta = np.random.uniform(0, 2*np.pi, 300)\n",
    "    src = np.vstack([\n",
    "        np.sin(phi) * np.cos(theta),\n",
    "        np.sin(phi) * np.sin(theta),\n",
    "        np.cos(phi)\n",
    "    ]).T * 3\n",
    "    \n",
    "    T_true = random_rigid_transform()\n",
    "    dst_clean = apply_transform(src, T_true)\n",
    "    noise = np.random.normal(scale=noise_std, size=dst_clean.shape)\n",
    "    dst_noisy = dst_clean + noise\n",
    "    \n",
    "    # Run alignment\n",
    "    T_est = ellipsoid_init_icp(src, dst_noisy)\n",
    "    aligned = apply_transform(src, T_est)\n",
    "    \n",
    "    # Calculate RMSE\n",
    "    rmse = np.sqrt(np.mean(np.linalg.norm(aligned - dst_noisy, axis=1)**2))\n",
    "    rmse_results.append(rmse)\n",
    "    \n",
    "    print(f\"Noise std: {noise_std:4.2f}, RMSE: {rmse:.6f}\")\n",
    "\n",
    "# Plot results\n",
    "plt.figure(figsize=(10, 6))\n",
    "plt.plot(noise_levels, rmse_results, 'bo-', linewidth=2, markersize=8)\n",
    "plt.xlabel('Noise Standard Deviation')\n",
    "plt.ylabel('RMSE')\n",
    "plt.title('Algorithm Robustness to Noise')\n",
    "plt.grid(True, alpha=0.3)\n",
    "plt.show()\n",
    "\n",
    "print(f\"\\nAlgorithm shows {'good' if max(rmse_results) < 0.5 else 'poor'} robustness to noise\")"
   ]
  },
  {
   "cell_type": "markdown",
   "metadata": {},
   "source": [
    "## Summary\n",
    "\n",
    "This notebook demonstrates that the `einit` algorithm:\n",
    "\n",
    "1. **Works well with various shapes**: spheres, ellipsoids, and cubes\n",
    "2. **Handles noise gracefully**: maintains good performance even with significant noise\n",
    "3. **Integrates seamlessly with OpenCV**: the 4×4 transformation matrices work directly with `cv2.estimateAffine3D`\n",
    "4. **Provides good initialization**: serves as an excellent starting point for ICP refinement\n",
    "5. **Handles partial overlap**: works even when source and destination don't fully overlap\n",
    "\n",
    "The algorithm is particularly effective for ellipsoidal shapes and provides a robust initialization for iterative refinement algorithms."
   ]
  }
 ],
 "metadata": {
  "kernelspec": {
   "display_name": "Python 3",
   "language": "python",
   "name": "python3"
  },
  "language_info": {
   "codemirror_mode": {
    "name": "ipython",
    "version": 3
   },
   "file_extension": ".py",
   "mimetype": "text/x-python",
   "name": "python",
   "nbconvert_exporter": "python",
   "pygments_lexer": "ipython3",
   "version": "3.8.10"
  }
 },
 "nbformat": 4,
 "nbformat_minor": 4
}